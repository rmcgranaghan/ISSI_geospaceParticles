{
 "cells": [
  {
   "cell_type": "markdown",
   "metadata": {},
   "source": [
    "### Defining a model evaluation metrics function\n"
   ]
  },
  {
   "cell_type": "code",
   "execution_count": 21,
   "metadata": {
    "ExecuteTime": {
     "end_time": "2019-11-15T14:59:15.375466Z",
     "start_time": "2019-11-15T14:59:15.358761Z"
    }
   },
   "outputs": [],
   "source": [
    "def model_eval(obs,pred):\n",
    "\n",
    "    import numpy as np\n",
    "    from sklearn import linear_model\n",
    "    \n",
    "    if obs.shape != pred.shape:\n",
    "        print('flattening arrays')\n",
    "        obs = obs.flatten()\n",
    "        pred = pred.flatten()\n",
    "        \n",
    "#     from sklearn import metrics\n",
    "    MAE = 1./len(obs) * (np.sum( np.abs(obs - pred) ))\n",
    "#     MAE = metrics.mean_absolute_error(obs,pred)\n",
    "    MSE = 1./len(obs) * (np.sum( (obs - pred)**2 ))\n",
    "#     MSE = metrics.mean_squared_error(obs,pred)\n",
    "    RMSE = np.sqrt(MSE)\n",
    "    RAE = (np.sum( np.abs(obs - pred) )) / (np.sum( np.abs(obs - np.mean(obs)) ))\n",
    "    RSE = (np.sum( (obs - pred)**2 )) / (np.sum( (obs - np.mean(obs))**2 ))\n",
    "    RSQ = 1-RSE\n",
    "#     RSQ = metrics.r2_score(obs,pred)\n",
    "#     NOTE: Prediction efficiency and R-squared are the same thing\n",
    "#     PE = 1 - ( (np.sum(pred - obs))**2 ) / ( (np.sum(obs - np.nanmean(obs)))**2 )\n",
    "    regr = linear_model.LinearRegression()\n",
    "    regr.fit(obs.reshape(-1, 1),pred)\n",
    "    lin_slope = regr.coef_[0]\n",
    "    lin_intercept = regr.intercept_\n",
    "    \n",
    "\n",
    "    print('Evaluation: \\n')\n",
    "    print('   MAE  = {}'.format(MAE))\n",
    "    print('   MSE  = {}'.format(MSE))\n",
    "    print('   RMSE = {}'.format(RMSE))\n",
    "    print('   RAE  = {}'.format(RAE))\n",
    "    print('   RSE  = {}'.format(RSE))\n",
    "    print('   RSQ  = {}'.format(RSQ))\n",
    "#     print('   PE  = {}'.format(PE))\n",
    "    print('   linear slope  = {}'.format(lin_slope))\n",
    "    print('   linear intercept  = {}'.format(lin_intercept))\n",
    "    \n",
    "    return MAE, MSE, RMSE, RAE, RSE, RSQ, lin_slope, lin_intercept"
   ]
  },
  {
   "cell_type": "code",
   "execution_count": 11,
   "metadata": {
    "ExecuteTime": {
     "end_time": "2019-11-15T14:54:39.312545Z",
     "start_time": "2019-11-15T14:54:39.111968Z"
    }
   },
   "outputs": [
    {
     "name": "stdout",
     "output_type": "stream",
     "text": [
      "Coefficients: \n",
      " [938.23786125]\n",
      "Mean squared error: 2548.07\n",
      "Variance score: 0.47\n"
     ]
    },
    {
     "data": {
      "image/png": "[encoded data removed]",
      "text/plain": [
       "<Figure size 432x288 with 1 Axes>"
      ]
     },
     "metadata": {},
     "output_type": "display_data"
    }
   ],
   "source": [
    "# # Testing the linear fit functionality of the function above\n",
    "\n",
    "# from sklearn import datasets, linear_model\n",
    "# import matplotlib.pyplot as plt\n",
    "# import numpy as np\n",
    "# from sklearn.metrics import mean_squared_error, r2_score\n",
    "    \n",
    "# # Load the diabetes dataset\n",
    "# diabetes = datasets.load_diabetes()\n",
    "\n",
    "\n",
    "# # Use only one feature\n",
    "# diabetes_X = diabetes.data[:, np.newaxis, 2]\n",
    "\n",
    "# # Split the data into training/testing sets\n",
    "# diabetes_X_train = diabetes_X[:-20]\n",
    "# diabetes_X_test = diabetes_X[-20:]\n",
    "\n",
    "# # Split the targets into training/testing sets\n",
    "# diabetes_y_train = diabetes.target[:-20]\n",
    "# diabetes_y_test = diabetes.target[-20:]\n",
    "\n",
    "# # Create linear regression object\n",
    "# regr = linear_model.LinearRegression()\n",
    "\n",
    "# plt.figure()\n",
    "# plt.scatter(diabetes_X_train,diabetes_y_train)\n",
    "\n",
    "# # Train the model using the training sets\n",
    "# regr.fit(diabetes_X_train, diabetes_y_train)\n",
    "\n",
    "# # Make predictions using the testing set\n",
    "# diabetes_y_pred = regr.predict(diabetes_X_test)\n",
    "\n",
    "# # The coefficients\n",
    "# print('Coefficients: \\n', regr.coef_)\n",
    "# # The mean squared error\n",
    "# print(\"Mean squared error: %.2f\"\n",
    "#       % mean_squared_error(diabetes_y_test, diabetes_y_pred))\n",
    "# # Explained variance score: 1 is perfect prediction\n",
    "# print('Variance score: %.2f' % r2_score(diabetes_y_test, diabetes_y_pred))\n",
    "\n",
    "# # Plot outputs\n",
    "# plt.scatter(diabetes_X_test, diabetes_y_test,  color='black')\n",
    "# plt.plot(diabetes_X_test, diabetes_y_pred, color='blue', linewidth=3)\n",
    "# plt.plot(diabetes_X_test, diabetes_X_test*regr.coef_ + regr.intercept_, '-.', color='red', linewidth=3)\n",
    "\n",
    "# plt.xticks(())\n",
    "# plt.yticks(())\n",
    "\n",
    "# plt.show()\n",
    "\n"
   ]
  },
  {
   "cell_type": "code",
   "execution_count": 22,
   "metadata": {
    "ExecuteTime": {
     "end_time": "2019-11-15T14:59:18.482723Z",
     "start_time": "2019-11-15T14:59:18.474388Z"
    }
   },
   "outputs": [
    {
     "name": "stdout",
     "output_type": "stream",
     "text": [
      "Evaluation: \n",
      "\n",
      "   MAE  = 41.22709128976146\n",
      "   MSE  = 2548.07239872597\n",
      "   RMSE = 50.478434986892864\n",
      "   RAE  = 0.7215101730794795\n",
      "   RSE  = 0.5274245520177285\n",
      "   RSQ  = 0.47257544798227147\n",
      "   PE  = -6.630079274986685e+31\n",
      "   linear slope  = 0.4598381320767749\n",
      "   linear intercept  = 85.52527409006767\n"
     ]
    },
    {
     "data": {
      "text/plain": [
       "(41.22709128976146,\n",
       " 2548.07239872597,\n",
       " 50.478434986892864,\n",
       " 0.7215101730794795,\n",
       " 0.5274245520177285,\n",
       " 0.47257544798227147,\n",
       " -6.630079274986685e+31)"
      ]
     },
     "execution_count": 22,
     "metadata": {},
     "output_type": "execute_result"
    }
   ],
   "source": [
    "# model_eval(diabetes_y_test,diabetes_y_pred)"
   ]
  },
  {
   "cell_type": "code",
   "execution_count": null,
   "metadata": {},
   "outputs": [],
   "source": []
  }
 ],
 "metadata": {
  "kernelspec": {
   "display_name": "Python 3",
   "language": "python",
   "name": "python3"
  },
  "language_info": {
   "codemirror_mode": {
    "name": "ipython",
    "version": 3
   },
   "file_extension": ".py",
   "mimetype": "text/x-python",
   "name": "python",
   "nbconvert_exporter": "python",
   "pygments_lexer": "ipython3",
   "version": "3.6.8"
  }
 },
 "nbformat": 4,
 "nbformat_minor": 2
}
